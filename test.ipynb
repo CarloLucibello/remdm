{
 "cells": [
  {
   "cell_type": "code",
   "execution_count": 1,
   "id": "9965b25c",
   "metadata": {},
   "outputs": [],
   "source": [
    "import os\n",
    "\n",
    "import fsspec\n",
    "import hydra\n",
    "import lightning as L\n",
    "import omegaconf\n",
    "import rich.syntax\n",
    "import rich.tree\n",
    "import torch\n",
    "import datasets\n",
    "import dataloader\n",
    "import diffusion\n",
    "import utils\n",
    "\n",
    "import json\n",
    "import mauve\n",
    "\n",
    "omegaconf.OmegaConf.register_new_resolver(\n",
    "  'cwd', os.getcwd)\n",
    "omegaconf.OmegaConf.register_new_resolver(\n",
    "  'device_count', torch.cuda.device_count)\n",
    "omegaconf.OmegaConf.register_new_resolver(\n",
    "  'eval', eval)\n",
    "omegaconf.OmegaConf.register_new_resolver(\n",
    "  'div_up', lambda x, y: (x + y - 1) // y)"
   ]
  },
  {
   "cell_type": "code",
   "execution_count": 2,
   "id": "6a160b53",
   "metadata": {},
   "outputs": [],
   "source": [
    "HOME = os.environ.get('HOME')\n",
    "checkpoint_path=f\"{HOME}/Git/remdm/outputs/checkpoints/mdlm.ckpt\"\n",
    "T=0\n",
    "sampling_steps=128 #1024\n",
    "p=0.9\n",
    "num_sample_batches=1 # 5000\n",
    "global_batch_size=512\n",
    "devices=1\n",
    "generated_seqs_path=f\"{HOME}/Git/remdm/outputs/mdlm_T-{sampling_steps}_topp-{p}.json\"\n"
   ]
  },
  {
   "cell_type": "code",
   "execution_count": 5,
   "id": "455e5de3",
   "metadata": {},
   "outputs": [
    {
     "name": "stdout",
     "output_type": "stream",
     "text": [
      "Using 1 GPUs for training.\n",
      "Using 1 batch size and 1 eval batch size. Global batch size is 512.\n",
      "num_nodes: 1,        accumulate_grad_batches: 512\n"
     ]
    }
   ],
   "source": [
    "# config = omegaconf.OmegaConf.load(\"configs/config.yaml\")\n",
    "\n",
    "with hydra.initialize(config_path=\"configs/\", version_base=None):\n",
    "    config = hydra.compose(config_name=\"config\", overrides=[\n",
    "        f\"data=openwebtext-split\",\n",
    "        f\"eval.checkpoint_path={checkpoint_path}\",\n",
    "        f\"time_conditioning=false\",\n",
    "        f\"T={T}\",\n",
    "        f\"loader.global_batch_size={global_batch_size}\",\n",
    "        f\"sampling.steps={sampling_steps}\",\n",
    "        f\"seed=1\",\n",
    "        f\"loader.batch_size=1\",\n",
    "        f\"loader.eval_batch_size=1\",\n",
    "        f\"eval.perplexity_batch_size=1\",\n",
    "        f\"sampling.num_sample_batches={num_sample_batches}\",\n",
    "        f\"sampling.generated_seqs_path={generated_seqs_path}\",\n",
    "        f\"sampling.nucleus_p={p}\",\n",
    "        f\"sampling.sampler=mdlm\",\n",
    "        f\"trainer.devices={devices}\",\n",
    "        f\"data.cache_dir={HOME}/Git/remdm/outputs/data\",\n",
    "    ])\n",
    "tokenizer = dataloader.get_tokenizer(config)\n",
    "_, valid_loader = dataloader.get_dataloaders(config, tokenizer, valid_seed=config.seed, skip_train=True)\n"
   ]
  },
  {
   "cell_type": "code",
   "execution_count": 7,
   "id": "41ea95c4",
   "metadata": {},
   "outputs": [],
   "source": [
    "x=next(iter(valid_loader))  # warmup dataloader"
   ]
  },
  {
   "cell_type": "code",
   "execution_count": 9,
   "id": "243b1c2e",
   "metadata": {},
   "outputs": [
    {
     "data": {
      "text/plain": [
       "torch.Size([1, 1024])"
      ]
     },
     "execution_count": 9,
     "metadata": {},
     "output_type": "execute_result"
    }
   ],
   "source": [
    "x[\"input_ids\"].shape"
   ]
  }
 ],
 "metadata": {
  "kernelspec": {
   "display_name": "remdm",
   "language": "python",
   "name": "python3"
  },
  "language_info": {
   "codemirror_mode": {
    "name": "ipython",
    "version": 3
   },
   "file_extension": ".py",
   "mimetype": "text/x-python",
   "name": "python",
   "nbconvert_exporter": "python",
   "pygments_lexer": "ipython3",
   "version": "3.9.23"
  }
 },
 "nbformat": 4,
 "nbformat_minor": 5
}
